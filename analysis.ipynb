{
 "metadata": {
  "language_info": {
   "codemirror_mode": {
    "name": "ipython",
    "version": 3
   },
   "file_extension": ".py",
   "mimetype": "text/x-python",
   "name": "python",
   "nbconvert_exporter": "python",
   "pygments_lexer": "ipython3",
   "version": "3.8.6-final"
  },
  "orig_nbformat": 2,
  "kernelspec": {
   "name": "python3",
   "display_name": "Python 3"
  }
 },
 "nbformat": 4,
 "nbformat_minor": 2,
 "cells": [
  {
   "cell_type": "code",
   "execution_count": 6,
   "metadata": {},
   "outputs": [],
   "source": [
    "import os\n",
    "import pandas as pd"
   ]
  },
  {
   "cell_type": "code",
   "execution_count": 35,
   "metadata": {},
   "outputs": [
    {
     "output_type": "execute_result",
     "data": {
      "text/plain": [
       "['cetesb_1-Parque D.Pedro II.csv',\n",
       " 'cetesb_17-Osasco.csv',\n",
       " 'cetesb_27-Pinheiros.csv',\n",
       " 'cetesb_29-Grajaú-Parelheiros.csv',\n",
       " 'cetesb_33-Itaim Paulista.csv',\n",
       " 'cetesb_36-Marg.Tietê-Pte Remédios.csv',\n",
       " 'cetesb_40-Guarulhos-Pimentas.csv',\n",
       " 'cetesb_41-Campinas-Taquaral.csv',\n",
       " 'cetesb_48-Paulínia-Sta Terezinha.csv',\n",
       " 'cetesb_56-S.José Campos-Jd.Satelite.csv',\n",
       " 'cetesb_58-Taubaté.csv',\n",
       " 'cetesb_62-Guaratinguetá.csv',\n",
       " 'cetesb_64-Limeira.csv',\n",
       " 'cetesb_7-São Caetano do Sul.csv',\n",
       " 'cetesb_74-Jundiaí.csv',\n",
       " 'cetesb_77-Piracicaba.csv',\n",
       " 'cetesb_8-Congonhas.csv',\n",
       " 'cetesb_80-São José do Rio Preto.csv',\n",
       " 'cetesb_83-Santos-Ponta da Praia.csv',\n",
       " 'cetesb_84-Ribeirão Preto.csv']"
      ]
     },
     "metadata": {},
     "execution_count": 35
    }
   ],
   "source": [
    "dir_cetesb = 'data\\cetesb'\n",
    "cetesb_files = os.listdir(dir_cetesb)"
   ]
  },
  {
   "cell_type": "code",
   "execution_count": 67,
   "metadata": {},
   "outputs": [],
   "source": [
    "def otif_cetesb(station):\n",
    "    df = pd.read_csv(f\"{dir_cetesb}\\{station}\")\n",
    "    df.rename(columns={\n",
    "        'MP10 µg/m³|Média  horária': 'MP10_hourly_mean',\n",
    "        'MP10 µg/m³|Média  24 h': 'MP10_daily_mean', \n",
    "        'MP10 µg/m³|Índice /  Qualidade': 'MP10_index',\n",
    "        'MP2.5 µg/m³|Média  horária': 'MP25_hourly_mean', \n",
    "        'MP2.5 µg/m³|Média  24 h': 'MP25_daily_mean',\n",
    "        'MP2.5 µg/m³|Índice /  Qualidade': 'MP25_index'\n",
    "    }, inplace=True)\n",
    "    df.loc[df['Hora']=='24:00','Hora'] = '0:00'\n",
    "    df['station_time'] = pd.to_datetime(df['Data']+' '+df['Hora'])\n",
    "    theoretical_data_size = len(pd.date_range(start=df['station_time'].min(), end=df['station_time'].max(), freq='h'))     \n",
    "\n",
    "    data = {\n",
    "        'station': df['station_name'][0],\n",
    "        'name_file': station,\n",
    "        'otif_MP10': len(df['MP10_index'].dropna())/theoretical_data_size,\n",
    "        'otif_MP25': len(df['MP25_index'].dropna())/theoretical_data_size,\n",
    "    }\n",
    "\n",
    "    return data"
   ]
  },
  {
   "cell_type": "code",
   "execution_count": 68,
   "metadata": {},
   "outputs": [
    {
     "output_type": "execute_result",
     "data": {
      "text/plain": [
       "                      station                                name_file  \\\n",
       "0           Parque D.Pedro II           cetesb_1-Parque D.Pedro II.csv   \n",
       "1                      Osasco                     cetesb_17-Osasco.csv   \n",
       "2                   Pinheiros                  cetesb_27-Pinheiros.csv   \n",
       "3          Grajaú-Parelheiros         cetesb_29-Grajaú-Parelheiros.csv   \n",
       "4              Itaim Paulista             cetesb_33-Itaim Paulista.csv   \n",
       "5     Marg.Tietê-Pte Remédios    cetesb_36-Marg.Tietê-Pte Remédios.csv   \n",
       "6          Guarulhos-Pimentas         cetesb_40-Guarulhos-Pimentas.csv   \n",
       "7           Campinas-Taquaral          cetesb_41-Campinas-Taquaral.csv   \n",
       "8      Paulínia-Sta Terezinha     cetesb_48-Paulínia-Sta Terezinha.csv   \n",
       "9   S.José Campos-Jd.Satelite  cetesb_56-S.José Campos-Jd.Satelite.csv   \n",
       "10                    Taubaté                    cetesb_58-Taubaté.csv   \n",
       "11              Guaratinguetá              cetesb_62-Guaratinguetá.csv   \n",
       "12                    Limeira                    cetesb_64-Limeira.csv   \n",
       "13         São Caetano do Sul          cetesb_7-São Caetano do Sul.csv   \n",
       "14                    Jundiaí                    cetesb_74-Jundiaí.csv   \n",
       "15                 Piracicaba                 cetesb_77-Piracicaba.csv   \n",
       "16                  Congonhas                   cetesb_8-Congonhas.csv   \n",
       "17      São José do Rio Preto      cetesb_80-São José do Rio Preto.csv   \n",
       "18      Santos-Ponta da Praia      cetesb_83-Santos-Ponta da Praia.csv   \n",
       "19             Ribeirão Preto             cetesb_84-Ribeirão Preto.csv   \n",
       "\n",
       "    otif_MP10  otif_MP25  \n",
       "0    0.824208   0.360889  \n",
       "1    0.857944   0.309931  \n",
       "2    0.468278   0.575389  \n",
       "3    0.801347   0.738625  \n",
       "4    0.726014   0.402667  \n",
       "5    0.852806   0.791653  \n",
       "6    0.437861   0.464861  \n",
       "7    0.530875   0.000000  \n",
       "8    0.247153   0.131014  \n",
       "9    0.524681   0.527167  \n",
       "10   0.525514   0.451611  \n",
       "11   0.320139   0.212403  \n",
       "12   0.447708   0.104028  \n",
       "13   0.821278   0.247681  \n",
       "14   0.858833   0.162028  \n",
       "15   0.828819   0.830306  \n",
       "16   0.854819   0.827014  \n",
       "17   0.858597   0.821986  \n",
       "18   0.864583   0.854278  \n",
       "19   0.306000   0.298167  "
      ],
      "text/html": "<div>\n<style scoped>\n    .dataframe tbody tr th:only-of-type {\n        vertical-align: middle;\n    }\n\n    .dataframe tbody tr th {\n        vertical-align: top;\n    }\n\n    .dataframe thead th {\n        text-align: right;\n    }\n</style>\n<table border=\"1\" class=\"dataframe\">\n  <thead>\n    <tr style=\"text-align: right;\">\n      <th></th>\n      <th>station</th>\n      <th>name_file</th>\n      <th>otif_MP10</th>\n      <th>otif_MP25</th>\n    </tr>\n  </thead>\n  <tbody>\n    <tr>\n      <th>0</th>\n      <td>Parque D.Pedro II</td>\n      <td>cetesb_1-Parque D.Pedro II.csv</td>\n      <td>0.824208</td>\n      <td>0.360889</td>\n    </tr>\n    <tr>\n      <th>1</th>\n      <td>Osasco</td>\n      <td>cetesb_17-Osasco.csv</td>\n      <td>0.857944</td>\n      <td>0.309931</td>\n    </tr>\n    <tr>\n      <th>2</th>\n      <td>Pinheiros</td>\n      <td>cetesb_27-Pinheiros.csv</td>\n      <td>0.468278</td>\n      <td>0.575389</td>\n    </tr>\n    <tr>\n      <th>3</th>\n      <td>Grajaú-Parelheiros</td>\n      <td>cetesb_29-Grajaú-Parelheiros.csv</td>\n      <td>0.801347</td>\n      <td>0.738625</td>\n    </tr>\n    <tr>\n      <th>4</th>\n      <td>Itaim Paulista</td>\n      <td>cetesb_33-Itaim Paulista.csv</td>\n      <td>0.726014</td>\n      <td>0.402667</td>\n    </tr>\n    <tr>\n      <th>5</th>\n      <td>Marg.Tietê-Pte Remédios</td>\n      <td>cetesb_36-Marg.Tietê-Pte Remédios.csv</td>\n      <td>0.852806</td>\n      <td>0.791653</td>\n    </tr>\n    <tr>\n      <th>6</th>\n      <td>Guarulhos-Pimentas</td>\n      <td>cetesb_40-Guarulhos-Pimentas.csv</td>\n      <td>0.437861</td>\n      <td>0.464861</td>\n    </tr>\n    <tr>\n      <th>7</th>\n      <td>Campinas-Taquaral</td>\n      <td>cetesb_41-Campinas-Taquaral.csv</td>\n      <td>0.530875</td>\n      <td>0.000000</td>\n    </tr>\n    <tr>\n      <th>8</th>\n      <td>Paulínia-Sta Terezinha</td>\n      <td>cetesb_48-Paulínia-Sta Terezinha.csv</td>\n      <td>0.247153</td>\n      <td>0.131014</td>\n    </tr>\n    <tr>\n      <th>9</th>\n      <td>S.José Campos-Jd.Satelite</td>\n      <td>cetesb_56-S.José Campos-Jd.Satelite.csv</td>\n      <td>0.524681</td>\n      <td>0.527167</td>\n    </tr>\n    <tr>\n      <th>10</th>\n      <td>Taubaté</td>\n      <td>cetesb_58-Taubaté.csv</td>\n      <td>0.525514</td>\n      <td>0.451611</td>\n    </tr>\n    <tr>\n      <th>11</th>\n      <td>Guaratinguetá</td>\n      <td>cetesb_62-Guaratinguetá.csv</td>\n      <td>0.320139</td>\n      <td>0.212403</td>\n    </tr>\n    <tr>\n      <th>12</th>\n      <td>Limeira</td>\n      <td>cetesb_64-Limeira.csv</td>\n      <td>0.447708</td>\n      <td>0.104028</td>\n    </tr>\n    <tr>\n      <th>13</th>\n      <td>São Caetano do Sul</td>\n      <td>cetesb_7-São Caetano do Sul.csv</td>\n      <td>0.821278</td>\n      <td>0.247681</td>\n    </tr>\n    <tr>\n      <th>14</th>\n      <td>Jundiaí</td>\n      <td>cetesb_74-Jundiaí.csv</td>\n      <td>0.858833</td>\n      <td>0.162028</td>\n    </tr>\n    <tr>\n      <th>15</th>\n      <td>Piracicaba</td>\n      <td>cetesb_77-Piracicaba.csv</td>\n      <td>0.828819</td>\n      <td>0.830306</td>\n    </tr>\n    <tr>\n      <th>16</th>\n      <td>Congonhas</td>\n      <td>cetesb_8-Congonhas.csv</td>\n      <td>0.854819</td>\n      <td>0.827014</td>\n    </tr>\n    <tr>\n      <th>17</th>\n      <td>São José do Rio Preto</td>\n      <td>cetesb_80-São José do Rio Preto.csv</td>\n      <td>0.858597</td>\n      <td>0.821986</td>\n    </tr>\n    <tr>\n      <th>18</th>\n      <td>Santos-Ponta da Praia</td>\n      <td>cetesb_83-Santos-Ponta da Praia.csv</td>\n      <td>0.864583</td>\n      <td>0.854278</td>\n    </tr>\n    <tr>\n      <th>19</th>\n      <td>Ribeirão Preto</td>\n      <td>cetesb_84-Ribeirão Preto.csv</td>\n      <td>0.306000</td>\n      <td>0.298167</td>\n    </tr>\n  </tbody>\n</table>\n</div>"
     },
     "metadata": {},
     "execution_count": 68
    }
   ],
   "source": [
    "df_otif = pd.DataFrame([\n",
    "    otif_cetesb(info_cetesb)\n",
    "    for info_cetesb in cetesb_files\n",
    "    ])\n",
    "df_otif"
   ]
  },
  {
   "cell_type": "code",
   "execution_count": 69,
   "metadata": {},
   "outputs": [
    {
     "output_type": "execute_result",
     "data": {
      "text/plain": [
       "                   station                              name_file  otif_MP10  \\\n",
       "0        Parque D.Pedro II         cetesb_1-Parque D.Pedro II.csv   0.824208   \n",
       "1                   Osasco                   cetesb_17-Osasco.csv   0.857944   \n",
       "2       Grajaú-Parelheiros       cetesb_29-Grajaú-Parelheiros.csv   0.801347   \n",
       "3  Marg.Tietê-Pte Remédios  cetesb_36-Marg.Tietê-Pte Remédios.csv   0.852806   \n",
       "4       São Caetano do Sul        cetesb_7-São Caetano do Sul.csv   0.821278   \n",
       "5                  Jundiaí                  cetesb_74-Jundiaí.csv   0.858833   \n",
       "6               Piracicaba               cetesb_77-Piracicaba.csv   0.828819   \n",
       "7                Congonhas                 cetesb_8-Congonhas.csv   0.854819   \n",
       "8    São José do Rio Preto    cetesb_80-São José do Rio Preto.csv   0.858597   \n",
       "9    Santos-Ponta da Praia    cetesb_83-Santos-Ponta da Praia.csv   0.864583   \n",
       "\n",
       "   otif_MP25  \n",
       "0   0.360889  \n",
       "1   0.309931  \n",
       "2   0.738625  \n",
       "3   0.791653  \n",
       "4   0.247681  \n",
       "5   0.162028  \n",
       "6   0.830306  \n",
       "7   0.827014  \n",
       "8   0.821986  \n",
       "9   0.854278  "
      ],
      "text/html": "<div>\n<style scoped>\n    .dataframe tbody tr th:only-of-type {\n        vertical-align: middle;\n    }\n\n    .dataframe tbody tr th {\n        vertical-align: top;\n    }\n\n    .dataframe thead th {\n        text-align: right;\n    }\n</style>\n<table border=\"1\" class=\"dataframe\">\n  <thead>\n    <tr style=\"text-align: right;\">\n      <th></th>\n      <th>station</th>\n      <th>name_file</th>\n      <th>otif_MP10</th>\n      <th>otif_MP25</th>\n    </tr>\n  </thead>\n  <tbody>\n    <tr>\n      <th>0</th>\n      <td>Parque D.Pedro II</td>\n      <td>cetesb_1-Parque D.Pedro II.csv</td>\n      <td>0.824208</td>\n      <td>0.360889</td>\n    </tr>\n    <tr>\n      <th>1</th>\n      <td>Osasco</td>\n      <td>cetesb_17-Osasco.csv</td>\n      <td>0.857944</td>\n      <td>0.309931</td>\n    </tr>\n    <tr>\n      <th>2</th>\n      <td>Grajaú-Parelheiros</td>\n      <td>cetesb_29-Grajaú-Parelheiros.csv</td>\n      <td>0.801347</td>\n      <td>0.738625</td>\n    </tr>\n    <tr>\n      <th>3</th>\n      <td>Marg.Tietê-Pte Remédios</td>\n      <td>cetesb_36-Marg.Tietê-Pte Remédios.csv</td>\n      <td>0.852806</td>\n      <td>0.791653</td>\n    </tr>\n    <tr>\n      <th>4</th>\n      <td>São Caetano do Sul</td>\n      <td>cetesb_7-São Caetano do Sul.csv</td>\n      <td>0.821278</td>\n      <td>0.247681</td>\n    </tr>\n    <tr>\n      <th>5</th>\n      <td>Jundiaí</td>\n      <td>cetesb_74-Jundiaí.csv</td>\n      <td>0.858833</td>\n      <td>0.162028</td>\n    </tr>\n    <tr>\n      <th>6</th>\n      <td>Piracicaba</td>\n      <td>cetesb_77-Piracicaba.csv</td>\n      <td>0.828819</td>\n      <td>0.830306</td>\n    </tr>\n    <tr>\n      <th>7</th>\n      <td>Congonhas</td>\n      <td>cetesb_8-Congonhas.csv</td>\n      <td>0.854819</td>\n      <td>0.827014</td>\n    </tr>\n    <tr>\n      <th>8</th>\n      <td>São José do Rio Preto</td>\n      <td>cetesb_80-São José do Rio Preto.csv</td>\n      <td>0.858597</td>\n      <td>0.821986</td>\n    </tr>\n    <tr>\n      <th>9</th>\n      <td>Santos-Ponta da Praia</td>\n      <td>cetesb_83-Santos-Ponta da Praia.csv</td>\n      <td>0.864583</td>\n      <td>0.854278</td>\n    </tr>\n  </tbody>\n</table>\n</div>"
     },
     "metadata": {},
     "execution_count": 69
    }
   ],
   "source": [
    "df_otif[df_otif['otif_MP10']>=0.8].reset_index(drop=True)"
   ]
  },
  {
   "cell_type": "code",
   "execution_count": 70,
   "metadata": {},
   "outputs": [
    {
     "output_type": "execute_result",
     "data": {
      "text/plain": [
       "                 station                            name_file  otif_MP10  \\\n",
       "0             Piracicaba             cetesb_77-Piracicaba.csv   0.828819   \n",
       "1              Congonhas               cetesb_8-Congonhas.csv   0.854819   \n",
       "2  São José do Rio Preto  cetesb_80-São José do Rio Preto.csv   0.858597   \n",
       "3  Santos-Ponta da Praia  cetesb_83-Santos-Ponta da Praia.csv   0.864583   \n",
       "\n",
       "   otif_MP25  \n",
       "0   0.830306  \n",
       "1   0.827014  \n",
       "2   0.821986  \n",
       "3   0.854278  "
      ],
      "text/html": "<div>\n<style scoped>\n    .dataframe tbody tr th:only-of-type {\n        vertical-align: middle;\n    }\n\n    .dataframe tbody tr th {\n        vertical-align: top;\n    }\n\n    .dataframe thead th {\n        text-align: right;\n    }\n</style>\n<table border=\"1\" class=\"dataframe\">\n  <thead>\n    <tr style=\"text-align: right;\">\n      <th></th>\n      <th>station</th>\n      <th>name_file</th>\n      <th>otif_MP10</th>\n      <th>otif_MP25</th>\n    </tr>\n  </thead>\n  <tbody>\n    <tr>\n      <th>0</th>\n      <td>Piracicaba</td>\n      <td>cetesb_77-Piracicaba.csv</td>\n      <td>0.828819</td>\n      <td>0.830306</td>\n    </tr>\n    <tr>\n      <th>1</th>\n      <td>Congonhas</td>\n      <td>cetesb_8-Congonhas.csv</td>\n      <td>0.854819</td>\n      <td>0.827014</td>\n    </tr>\n    <tr>\n      <th>2</th>\n      <td>São José do Rio Preto</td>\n      <td>cetesb_80-São José do Rio Preto.csv</td>\n      <td>0.858597</td>\n      <td>0.821986</td>\n    </tr>\n    <tr>\n      <th>3</th>\n      <td>Santos-Ponta da Praia</td>\n      <td>cetesb_83-Santos-Ponta da Praia.csv</td>\n      <td>0.864583</td>\n      <td>0.854278</td>\n    </tr>\n  </tbody>\n</table>\n</div>"
     },
     "metadata": {},
     "execution_count": 70
    }
   ],
   "source": [
    "df_otif[df_otif['otif_MP25']>=0.8].reset_index(drop=True)"
   ]
  }
 ]
}