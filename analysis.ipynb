{
  "nbformat": 4,
  "nbformat_minor": 0,
  "metadata": {
    "language_info": {
      "codemirror_mode": {
        "name": "ipython",
        "version": 3
      },
      "file_extension": ".py",
      "mimetype": "text/x-python",
      "name": "python",
      "nbconvert_exporter": "python",
      "pygments_lexer": "ipython3",
      "version": "3.8.6-final"
    },
    "orig_nbformat": 2,
    "kernelspec": {
      "name": "python3",
      "display_name": "Python 3"
    },
    "colab": {
      "name": "analysis.ipynb",
      "provenance": [],
      "include_colab_link": true
    }
  },
  "cells": [
    {
      "cell_type": "markdown",
      "metadata": {
        "id": "view-in-github",
        "colab_type": "text"
      },
      "source": [
        "<a href=\"https://colab.research.google.com/github/BrunoASNascimento/estudo-da-correlacao-da-poluicao-atmosfericas-com-os-gastos-no-sus/blob/main/analysis.ipynb\" target=\"_parent\"><img src=\"https://colab.research.google.com/assets/colab-badge.svg\" alt=\"Open In Colab\"/></a>"
      ]
    },
    {
      "cell_type": "markdown",
      "metadata": {
        "id": "FC3yRxbIw2Uk"
      },
      "source": [
        "#Imports"
      ]
    },
    {
      "cell_type": "code",
      "metadata": {
        "id": "uY8T0JrHtaVK"
      },
      "source": [
        "import os\n",
        "import pandas as pd\n",
        "from urllib.parse import quote"
      ],
      "execution_count": 1,
      "outputs": []
    },
    {
      "cell_type": "markdown",
      "metadata": {
        "id": "yE1rcPBrx_6g"
      },
      "source": [
        "# Cetesb"
      ]
    },
    {
      "cell_type": "markdown",
      "metadata": {
        "id": "9AhIwmU4w5ob"
      },
      "source": [
        "## Cetesb read config"
      ]
    },
    {
      "cell_type": "code",
      "metadata": {
        "id": "U5qMtR78taVL",
        "outputId": "c5e60028-9e4d-443d-8ca5-e608201c28cb",
        "colab": {
          "base_uri": "https://localhost:8080/"
        }
      },
      "source": [
        "try:\n",
        "    print('Try local upload documents')\n",
        "    dir_cetesb = 'data\\cetesb'\n",
        "    cetesb_files = os.listdir(dir_cetesb)\n",
        "except:\n",
        "    print('Get in github')\n",
        "    cetesb_files = ['cetesb_1-Parque D.Pedro II.csv', 'cetesb_17-Osasco.csv', 'cetesb_27-Pinheiros.csv', 'cetesb_29-Grajaú-Parelheiros.csv', 'cetesb_33-Itaim Paulista.csv',\n",
        " 'cetesb_36-Marg.Tietê-Pte Remédios.csv', 'cetesb_40-Guarulhos-Pimentas.csv', 'cetesb_41-Campinas-Taquaral.csv', 'cetesb_48-Paulínia-Sta Terezinha.csv', 'cetesb_56-S.José Campos-Jd.Satelite.csv',\n",
        " 'cetesb_58-Taubaté.csv', 'cetesb_62-Guaratinguetá.csv', 'cetesb_64-Limeira.csv', 'cetesb_7-São Caetano do Sul.csv', 'cetesb_74-Jundiaí.csv', 'cetesb_77-Piracicaba.csv',\n",
        " 'cetesb_8-Congonhas.csv', 'cetesb_80-São José do Rio Preto.csv', 'cetesb_83-Santos-Ponta da Praia.csv', 'cetesb_84-Ribeirão Preto.csv']"
      ],
      "execution_count": 2,
      "outputs": [
        {
          "output_type": "stream",
          "text": [
            "Try local upload documents\n",
            "Get in github\n"
          ],
          "name": "stdout"
        }
      ]
    },
    {
      "cell_type": "markdown",
      "metadata": {
        "id": "sWIexWwdxFHe"
      },
      "source": [
        "## Function about otif data"
      ]
    },
    {
      "cell_type": "code",
      "metadata": {
        "id": "oLMvnBP3taVL"
      },
      "source": [
        "def otif_cetesb(station):\n",
        "    try:\n",
        "        df = pd.read_csv(f\"{dir_cetesb}\\{station}\")\n",
        "    except:\n",
        "        url = f\"https://raw.githubusercontent.com/BrunoASNascimento/estudo-da-correlacao-da-poluicao-atmosfericas-com-os-gastos-no-sus/main/data/cetesb/{quote(station)}\"\n",
        "        # print(url)\n",
        "        df = pd.read_csv(url)\n",
        "    df.rename(columns={\n",
        "        'MP10 µg/m³|Média  horária': 'MP10_hourly_mean',\n",
        "        'MP10 µg/m³|Média  24 h': 'MP10_daily_mean', \n",
        "        'MP10 µg/m³|Índice /  Qualidade': 'MP10_index',\n",
        "        'MP2.5 µg/m³|Média  horária': 'MP25_hourly_mean', \n",
        "        'MP2.5 µg/m³|Média  24 h': 'MP25_daily_mean',\n",
        "        'MP2.5 µg/m³|Índice /  Qualidade': 'MP25_index'\n",
        "    }, inplace=True)\n",
        "    df.loc[df['Hora']=='24:00','Hora'] = '0:00'\n",
        "    df['station_time'] = pd.to_datetime(df['Data']+' '+df['Hora'])\n",
        "    theoretical_data_size = len(pd.date_range(start=df['station_time'].min(), end=df['station_time'].max(), freq='h'))     \n",
        "\n",
        "    data = {\n",
        "        'station': df['station_name'][0],\n",
        "        'name_file': station,\n",
        "        'otif_MP10': len(df['MP10_index'].dropna())/theoretical_data_size,\n",
        "        'otif_MP25': len(df['MP25_index'].dropna())/theoretical_data_size,\n",
        "    }\n",
        "\n",
        "    return data"
      ],
      "execution_count": 3,
      "outputs": []
    },
    {
      "cell_type": "markdown",
      "metadata": {
        "id": "6ePvi1OTxK77"
      },
      "source": [
        "## Data frame about otif MP10 and MP2.5"
      ]
    },
    {
      "cell_type": "code",
      "metadata": {
        "id": "Xnp4fJl6taVL",
        "outputId": "b7acd882-5561-4e26-c88a-430b3912a699",
        "colab": {
          "base_uri": "https://localhost:8080/",
          "height": 669
        }
      },
      "source": [
        "df_otif = pd.DataFrame([\n",
        "    otif_cetesb(info_cetesb)\n",
        "    for info_cetesb in cetesb_files\n",
        "    ])\n",
        "df_otif"
      ],
      "execution_count": 4,
      "outputs": [
        {
          "output_type": "execute_result",
          "data": {
            "text/html": [
              "<div>\n",
              "<style scoped>\n",
              "    .dataframe tbody tr th:only-of-type {\n",
              "        vertical-align: middle;\n",
              "    }\n",
              "\n",
              "    .dataframe tbody tr th {\n",
              "        vertical-align: top;\n",
              "    }\n",
              "\n",
              "    .dataframe thead th {\n",
              "        text-align: right;\n",
              "    }\n",
              "</style>\n",
              "<table border=\"1\" class=\"dataframe\">\n",
              "  <thead>\n",
              "    <tr style=\"text-align: right;\">\n",
              "      <th></th>\n",
              "      <th>station</th>\n",
              "      <th>name_file</th>\n",
              "      <th>otif_MP10</th>\n",
              "      <th>otif_MP25</th>\n",
              "    </tr>\n",
              "  </thead>\n",
              "  <tbody>\n",
              "    <tr>\n",
              "      <th>0</th>\n",
              "      <td>Parque D.Pedro II</td>\n",
              "      <td>cetesb_1-Parque D.Pedro II.csv</td>\n",
              "      <td>0.824208</td>\n",
              "      <td>0.360889</td>\n",
              "    </tr>\n",
              "    <tr>\n",
              "      <th>1</th>\n",
              "      <td>Osasco</td>\n",
              "      <td>cetesb_17-Osasco.csv</td>\n",
              "      <td>0.857944</td>\n",
              "      <td>0.309931</td>\n",
              "    </tr>\n",
              "    <tr>\n",
              "      <th>2</th>\n",
              "      <td>Pinheiros</td>\n",
              "      <td>cetesb_27-Pinheiros.csv</td>\n",
              "      <td>0.468278</td>\n",
              "      <td>0.575389</td>\n",
              "    </tr>\n",
              "    <tr>\n",
              "      <th>3</th>\n",
              "      <td>Grajaú-Parelheiros</td>\n",
              "      <td>cetesb_29-Grajaú-Parelheiros.csv</td>\n",
              "      <td>0.801347</td>\n",
              "      <td>0.738625</td>\n",
              "    </tr>\n",
              "    <tr>\n",
              "      <th>4</th>\n",
              "      <td>Itaim Paulista</td>\n",
              "      <td>cetesb_33-Itaim Paulista.csv</td>\n",
              "      <td>0.726014</td>\n",
              "      <td>0.402667</td>\n",
              "    </tr>\n",
              "    <tr>\n",
              "      <th>5</th>\n",
              "      <td>Marg.Tietê-Pte Remédios</td>\n",
              "      <td>cetesb_36-Marg.Tietê-Pte Remédios.csv</td>\n",
              "      <td>0.852806</td>\n",
              "      <td>0.791653</td>\n",
              "    </tr>\n",
              "    <tr>\n",
              "      <th>6</th>\n",
              "      <td>Guarulhos-Pimentas</td>\n",
              "      <td>cetesb_40-Guarulhos-Pimentas.csv</td>\n",
              "      <td>0.437861</td>\n",
              "      <td>0.464861</td>\n",
              "    </tr>\n",
              "    <tr>\n",
              "      <th>7</th>\n",
              "      <td>Campinas-Taquaral</td>\n",
              "      <td>cetesb_41-Campinas-Taquaral.csv</td>\n",
              "      <td>0.530875</td>\n",
              "      <td>0.000000</td>\n",
              "    </tr>\n",
              "    <tr>\n",
              "      <th>8</th>\n",
              "      <td>Paulínia-Sta Terezinha</td>\n",
              "      <td>cetesb_48-Paulínia-Sta Terezinha.csv</td>\n",
              "      <td>0.247153</td>\n",
              "      <td>0.131014</td>\n",
              "    </tr>\n",
              "    <tr>\n",
              "      <th>9</th>\n",
              "      <td>S.José Campos-Jd.Satelite</td>\n",
              "      <td>cetesb_56-S.José Campos-Jd.Satelite.csv</td>\n",
              "      <td>0.524681</td>\n",
              "      <td>0.527167</td>\n",
              "    </tr>\n",
              "    <tr>\n",
              "      <th>10</th>\n",
              "      <td>Taubaté</td>\n",
              "      <td>cetesb_58-Taubaté.csv</td>\n",
              "      <td>0.525514</td>\n",
              "      <td>0.451611</td>\n",
              "    </tr>\n",
              "    <tr>\n",
              "      <th>11</th>\n",
              "      <td>Guaratinguetá</td>\n",
              "      <td>cetesb_62-Guaratinguetá.csv</td>\n",
              "      <td>0.320139</td>\n",
              "      <td>0.212403</td>\n",
              "    </tr>\n",
              "    <tr>\n",
              "      <th>12</th>\n",
              "      <td>Limeira</td>\n",
              "      <td>cetesb_64-Limeira.csv</td>\n",
              "      <td>0.447708</td>\n",
              "      <td>0.104028</td>\n",
              "    </tr>\n",
              "    <tr>\n",
              "      <th>13</th>\n",
              "      <td>São Caetano do Sul</td>\n",
              "      <td>cetesb_7-São Caetano do Sul.csv</td>\n",
              "      <td>0.821278</td>\n",
              "      <td>0.247681</td>\n",
              "    </tr>\n",
              "    <tr>\n",
              "      <th>14</th>\n",
              "      <td>Jundiaí</td>\n",
              "      <td>cetesb_74-Jundiaí.csv</td>\n",
              "      <td>0.858833</td>\n",
              "      <td>0.162028</td>\n",
              "    </tr>\n",
              "    <tr>\n",
              "      <th>15</th>\n",
              "      <td>Piracicaba</td>\n",
              "      <td>cetesb_77-Piracicaba.csv</td>\n",
              "      <td>0.828819</td>\n",
              "      <td>0.830306</td>\n",
              "    </tr>\n",
              "    <tr>\n",
              "      <th>16</th>\n",
              "      <td>Congonhas</td>\n",
              "      <td>cetesb_8-Congonhas.csv</td>\n",
              "      <td>0.854819</td>\n",
              "      <td>0.827014</td>\n",
              "    </tr>\n",
              "    <tr>\n",
              "      <th>17</th>\n",
              "      <td>São José do Rio Preto</td>\n",
              "      <td>cetesb_80-São José do Rio Preto.csv</td>\n",
              "      <td>0.858597</td>\n",
              "      <td>0.821986</td>\n",
              "    </tr>\n",
              "    <tr>\n",
              "      <th>18</th>\n",
              "      <td>Santos-Ponta da Praia</td>\n",
              "      <td>cetesb_83-Santos-Ponta da Praia.csv</td>\n",
              "      <td>0.864583</td>\n",
              "      <td>0.854278</td>\n",
              "    </tr>\n",
              "    <tr>\n",
              "      <th>19</th>\n",
              "      <td>Ribeirão Preto</td>\n",
              "      <td>cetesb_84-Ribeirão Preto.csv</td>\n",
              "      <td>0.306000</td>\n",
              "      <td>0.298167</td>\n",
              "    </tr>\n",
              "  </tbody>\n",
              "</table>\n",
              "</div>"
            ],
            "text/plain": [
              "                      station  ... otif_MP25\n",
              "0           Parque D.Pedro II  ...  0.360889\n",
              "1                      Osasco  ...  0.309931\n",
              "2                   Pinheiros  ...  0.575389\n",
              "3          Grajaú-Parelheiros  ...  0.738625\n",
              "4              Itaim Paulista  ...  0.402667\n",
              "5     Marg.Tietê-Pte Remédios  ...  0.791653\n",
              "6          Guarulhos-Pimentas  ...  0.464861\n",
              "7           Campinas-Taquaral  ...  0.000000\n",
              "8      Paulínia-Sta Terezinha  ...  0.131014\n",
              "9   S.José Campos-Jd.Satelite  ...  0.527167\n",
              "10                    Taubaté  ...  0.451611\n",
              "11              Guaratinguetá  ...  0.212403\n",
              "12                    Limeira  ...  0.104028\n",
              "13         São Caetano do Sul  ...  0.247681\n",
              "14                    Jundiaí  ...  0.162028\n",
              "15                 Piracicaba  ...  0.830306\n",
              "16                  Congonhas  ...  0.827014\n",
              "17      São José do Rio Preto  ...  0.821986\n",
              "18      Santos-Ponta da Praia  ...  0.854278\n",
              "19             Ribeirão Preto  ...  0.298167\n",
              "\n",
              "[20 rows x 4 columns]"
            ]
          },
          "metadata": {
            "tags": []
          },
          "execution_count": 4
        }
      ]
    },
    {
      "cell_type": "markdown",
      "metadata": {
        "id": "ytj6pcYixb0J"
      },
      "source": [
        "## Otif_MP10 >= 80%"
      ]
    },
    {
      "cell_type": "code",
      "metadata": {
        "id": "9VYJl12UtaVM",
        "outputId": "72979afd-57b0-497f-d112-793723707c22",
        "colab": {
          "base_uri": "https://localhost:8080/",
          "height": 359
        }
      },
      "source": [
        "df_otif[df_otif['otif_MP10']>=0.8].reset_index(drop=True)"
      ],
      "execution_count": 5,
      "outputs": [
        {
          "output_type": "execute_result",
          "data": {
            "text/html": [
              "<div>\n",
              "<style scoped>\n",
              "    .dataframe tbody tr th:only-of-type {\n",
              "        vertical-align: middle;\n",
              "    }\n",
              "\n",
              "    .dataframe tbody tr th {\n",
              "        vertical-align: top;\n",
              "    }\n",
              "\n",
              "    .dataframe thead th {\n",
              "        text-align: right;\n",
              "    }\n",
              "</style>\n",
              "<table border=\"1\" class=\"dataframe\">\n",
              "  <thead>\n",
              "    <tr style=\"text-align: right;\">\n",
              "      <th></th>\n",
              "      <th>station</th>\n",
              "      <th>name_file</th>\n",
              "      <th>otif_MP10</th>\n",
              "      <th>otif_MP25</th>\n",
              "    </tr>\n",
              "  </thead>\n",
              "  <tbody>\n",
              "    <tr>\n",
              "      <th>0</th>\n",
              "      <td>Parque D.Pedro II</td>\n",
              "      <td>cetesb_1-Parque D.Pedro II.csv</td>\n",
              "      <td>0.824208</td>\n",
              "      <td>0.360889</td>\n",
              "    </tr>\n",
              "    <tr>\n",
              "      <th>1</th>\n",
              "      <td>Osasco</td>\n",
              "      <td>cetesb_17-Osasco.csv</td>\n",
              "      <td>0.857944</td>\n",
              "      <td>0.309931</td>\n",
              "    </tr>\n",
              "    <tr>\n",
              "      <th>2</th>\n",
              "      <td>Grajaú-Parelheiros</td>\n",
              "      <td>cetesb_29-Grajaú-Parelheiros.csv</td>\n",
              "      <td>0.801347</td>\n",
              "      <td>0.738625</td>\n",
              "    </tr>\n",
              "    <tr>\n",
              "      <th>3</th>\n",
              "      <td>Marg.Tietê-Pte Remédios</td>\n",
              "      <td>cetesb_36-Marg.Tietê-Pte Remédios.csv</td>\n",
              "      <td>0.852806</td>\n",
              "      <td>0.791653</td>\n",
              "    </tr>\n",
              "    <tr>\n",
              "      <th>4</th>\n",
              "      <td>São Caetano do Sul</td>\n",
              "      <td>cetesb_7-São Caetano do Sul.csv</td>\n",
              "      <td>0.821278</td>\n",
              "      <td>0.247681</td>\n",
              "    </tr>\n",
              "    <tr>\n",
              "      <th>5</th>\n",
              "      <td>Jundiaí</td>\n",
              "      <td>cetesb_74-Jundiaí.csv</td>\n",
              "      <td>0.858833</td>\n",
              "      <td>0.162028</td>\n",
              "    </tr>\n",
              "    <tr>\n",
              "      <th>6</th>\n",
              "      <td>Piracicaba</td>\n",
              "      <td>cetesb_77-Piracicaba.csv</td>\n",
              "      <td>0.828819</td>\n",
              "      <td>0.830306</td>\n",
              "    </tr>\n",
              "    <tr>\n",
              "      <th>7</th>\n",
              "      <td>Congonhas</td>\n",
              "      <td>cetesb_8-Congonhas.csv</td>\n",
              "      <td>0.854819</td>\n",
              "      <td>0.827014</td>\n",
              "    </tr>\n",
              "    <tr>\n",
              "      <th>8</th>\n",
              "      <td>São José do Rio Preto</td>\n",
              "      <td>cetesb_80-São José do Rio Preto.csv</td>\n",
              "      <td>0.858597</td>\n",
              "      <td>0.821986</td>\n",
              "    </tr>\n",
              "    <tr>\n",
              "      <th>9</th>\n",
              "      <td>Santos-Ponta da Praia</td>\n",
              "      <td>cetesb_83-Santos-Ponta da Praia.csv</td>\n",
              "      <td>0.864583</td>\n",
              "      <td>0.854278</td>\n",
              "    </tr>\n",
              "  </tbody>\n",
              "</table>\n",
              "</div>"
            ],
            "text/plain": [
              "                   station  ... otif_MP25\n",
              "0        Parque D.Pedro II  ...  0.360889\n",
              "1                   Osasco  ...  0.309931\n",
              "2       Grajaú-Parelheiros  ...  0.738625\n",
              "3  Marg.Tietê-Pte Remédios  ...  0.791653\n",
              "4       São Caetano do Sul  ...  0.247681\n",
              "5                  Jundiaí  ...  0.162028\n",
              "6               Piracicaba  ...  0.830306\n",
              "7                Congonhas  ...  0.827014\n",
              "8    São José do Rio Preto  ...  0.821986\n",
              "9    Santos-Ponta da Praia  ...  0.854278\n",
              "\n",
              "[10 rows x 4 columns]"
            ]
          },
          "metadata": {
            "tags": []
          },
          "execution_count": 5
        }
      ]
    },
    {
      "cell_type": "markdown",
      "metadata": {
        "id": "iOMx1BHCxp9Z"
      },
      "source": [
        "## Otif_MP2.5 >= 80%"
      ]
    },
    {
      "cell_type": "code",
      "metadata": {
        "id": "UhuDo7FItaVM",
        "outputId": "a50e38ec-e64c-4baa-ebb5-306dbbff807a",
        "colab": {
          "base_uri": "https://localhost:8080/",
          "height": 173
        }
      },
      "source": [
        "df_otif[df_otif['otif_MP25']>=0.8].reset_index(drop=True)"
      ],
      "execution_count": 6,
      "outputs": [
        {
          "output_type": "execute_result",
          "data": {
            "text/html": [
              "<div>\n",
              "<style scoped>\n",
              "    .dataframe tbody tr th:only-of-type {\n",
              "        vertical-align: middle;\n",
              "    }\n",
              "\n",
              "    .dataframe tbody tr th {\n",
              "        vertical-align: top;\n",
              "    }\n",
              "\n",
              "    .dataframe thead th {\n",
              "        text-align: right;\n",
              "    }\n",
              "</style>\n",
              "<table border=\"1\" class=\"dataframe\">\n",
              "  <thead>\n",
              "    <tr style=\"text-align: right;\">\n",
              "      <th></th>\n",
              "      <th>station</th>\n",
              "      <th>name_file</th>\n",
              "      <th>otif_MP10</th>\n",
              "      <th>otif_MP25</th>\n",
              "    </tr>\n",
              "  </thead>\n",
              "  <tbody>\n",
              "    <tr>\n",
              "      <th>0</th>\n",
              "      <td>Piracicaba</td>\n",
              "      <td>cetesb_77-Piracicaba.csv</td>\n",
              "      <td>0.828819</td>\n",
              "      <td>0.830306</td>\n",
              "    </tr>\n",
              "    <tr>\n",
              "      <th>1</th>\n",
              "      <td>Congonhas</td>\n",
              "      <td>cetesb_8-Congonhas.csv</td>\n",
              "      <td>0.854819</td>\n",
              "      <td>0.827014</td>\n",
              "    </tr>\n",
              "    <tr>\n",
              "      <th>2</th>\n",
              "      <td>São José do Rio Preto</td>\n",
              "      <td>cetesb_80-São José do Rio Preto.csv</td>\n",
              "      <td>0.858597</td>\n",
              "      <td>0.821986</td>\n",
              "    </tr>\n",
              "    <tr>\n",
              "      <th>3</th>\n",
              "      <td>Santos-Ponta da Praia</td>\n",
              "      <td>cetesb_83-Santos-Ponta da Praia.csv</td>\n",
              "      <td>0.864583</td>\n",
              "      <td>0.854278</td>\n",
              "    </tr>\n",
              "  </tbody>\n",
              "</table>\n",
              "</div>"
            ],
            "text/plain": [
              "                 station  ... otif_MP25\n",
              "0             Piracicaba  ...  0.830306\n",
              "1              Congonhas  ...  0.827014\n",
              "2  São José do Rio Preto  ...  0.821986\n",
              "3  Santos-Ponta da Praia  ...  0.854278\n",
              "\n",
              "[4 rows x 4 columns]"
            ]
          },
          "metadata": {
            "tags": []
          },
          "execution_count": 6
        }
      ]
    }
  ]
}